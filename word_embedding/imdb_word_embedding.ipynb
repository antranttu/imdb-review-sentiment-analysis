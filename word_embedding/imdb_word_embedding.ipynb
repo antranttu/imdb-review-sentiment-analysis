{
 "cells": [
  {
   "cell_type": "markdown",
   "metadata": {},
   "source": [
    "Import PlaidML backend in order to use GPU."
   ]
  },
  {
   "cell_type": "code",
   "execution_count": 11,
   "metadata": {},
   "outputs": [],
   "source": [
    "import os\n",
    "os.environ['KERAS_BACKEND'] = 'plaidml.keras.backend'\n",
    "\n",
    "import keras"
   ]
  },
  {
   "cell_type": "markdown",
   "metadata": {},
   "source": [
    "Download raw IMDB dataset (ai.stanford.edu/~amaas/data/sentiment) and uncompress it.\n",
    "Then collect the individual training reviews into a list of strings (one string per review).\n",
    "Also collect the review labels (pos/neg) into a **labels** list."
   ]
  },
  {
   "cell_type": "code",
   "execution_count": 12,
   "metadata": {},
   "outputs": [],
   "source": [
    "imdb_dir = 'C:\\\\Users\\\\antra\\\\OneDrive\\\\kaggle\\\\sentiment_analysis\\\\word_embedding\\\\aclImdb'\n",
    "train_dir = os.path.join(imdb_dir, 'train')\n",
    "\n",
    "labels = []\n",
    "texts = []\n",
    "\n",
    "for label_type in ['neg', 'pos']:\n",
    "    dir_name = os.path.join(train_dir, label_type)\n",
    "    for fname in os.listdir(dir_name):\n",
    "        if fname[-4:] == '.txt':\n",
    "            f = open(os.path.join(dir_name, fname), errors='ignore')\n",
    "            texts.append(f.read())\n",
    "            f.close()\n",
    "            if label_type == 'neg':\n",
    "                labels.append(0)\n",
    "            else:\n",
    "                labels.append(1)"
   ]
  },
  {
   "cell_type": "code",
   "execution_count": 13,
   "metadata": {},
   "outputs": [
    {
     "data": {
      "text/plain": [
       "\"story of a man who has unnatural feelings for a pig. starts out with a opening scene that is a terrific example of absurd comedy. a formal orchestra audience is turned into an insane, violent mob by the crazy chantings of it's singers. unfortunately it stays absurd the whole time with no general narrative eventually making it just too off putting. even those from the era should be turned off. the cryptic dialogue would make shakespeare seem easy to a third grader. on a technical level it's better than you might think with some good cinematography by future great vilmos zsigmond. future stars sally kirkland and frederic forrest can be seen briefly.\""
      ]
     },
     "execution_count": 13,
     "metadata": {},
     "output_type": "execute_result"
    }
   ],
   "source": [
    "texts[0].lower()"
   ]
  },
  {
   "cell_type": "code",
   "execution_count": 14,
   "metadata": {},
   "outputs": [
    {
     "data": {
      "text/plain": [
       "91"
      ]
     },
     "execution_count": 14,
     "metadata": {},
     "output_type": "execute_result"
    }
   ],
   "source": [
    "len(set(texts[0].lower().split())) # number of unique words in the first text"
   ]
  },
  {
   "cell_type": "markdown",
   "metadata": {},
   "source": [
    "Tokenizing the data; vectorize the text and prepare a training and validation split. Because pre-trained word embeddings are useful on problems where little training data is available; otherwise; task-specific embeddings would outperform them. Let's restrict the training data to the first 200 samples."
   ]
  },
  {
   "cell_type": "code",
   "execution_count": 15,
   "metadata": {},
   "outputs": [
    {
     "name": "stdout",
     "output_type": "stream",
     "text": [
      "Found 88584 unique tokens.\n",
      "Shape of data tensor: (25000, 100)\n",
      "Shape of label tensor: (25000,)\n"
     ]
    }
   ],
   "source": [
    "from keras.preprocessing.text import Tokenizer\n",
    "from keras.preprocessing.sequence import pad_sequences\n",
    "import numpy as np\n",
    "\n",
    "maxlen = 100 # cut off reviews after 100 words (this is the size of the vocabulary columns)\n",
    "training_samples = 200 # trains on 200 samples\n",
    "validation_samples = 10000 # validates on 10000 samples\n",
    "max_words = 10000 # considers only the top 10000 words in the dataset\n",
    "\n",
    "tokenizer = Tokenizer(num_words=max_words) # creates a tokenizer, takes only the first 10000 common words\n",
    "tokenizer.fit_on_texts(texts) # build the word index\n",
    "sequences = tokenizer.texts_to_sequences(texts) # turns strings into lists of integer indices\n",
    "\n",
    "# could also directly get one-hot binary representations\n",
    "# one_hot_results = tokenizer.texts_to_matrix(samples, mode='binary')\n",
    "\n",
    "word_index = tokenizer.word_index # how to recover the word index that was computed\n",
    "print('Found %s unique tokens.' % len(word_index))\n",
    "\n",
    "data = pad_sequences(sequences, maxlen=maxlen) # truncate review after \"maxlen\", or fill in with 0's if not long enough\n",
    "\n",
    "labels = np.asarray(labels)\n",
    "print('Shape of data tensor:', data.shape)\n",
    "print('Shape of label tensor:', labels.shape)"
   ]
  },
  {
   "cell_type": "markdown",
   "metadata": {},
   "source": [
    "Let's decode one of the reviews to original text."
   ]
  },
  {
   "cell_type": "code",
   "execution_count": 20,
   "metadata": {},
   "outputs": [
    {
     "data": {
      "text/plain": [
       "\"who has unnatural feelings for a pig starts out with a opening scene that is a terrific example of absurd comedy a orchestra audience is turned into an insane violent mob by the crazy of it's singers unfortunately it stays absurd the whole time with no general narrative eventually making it just too off putting even those from the era should be turned off the dialogue would make shakespeare seem easy to a third on a technical level it's better than you might think with some good cinematography by future great future stars sally and forrest can be seen briefly\""
      ]
     },
     "execution_count": 20,
     "metadata": {},
     "output_type": "execute_result"
    }
   ],
   "source": [
    "reverse_word_index = dict([(value, key) for (key, value) in word_index.items()])\n",
    "decoded_review = ' '.join([reverse_word_index.get(i, '?') for i in data[0]]) # indices offset by 3 because 0, 1, and 2 are reserved indices for “padding,” “start ofsequence,” and “unknown.”\n",
    "decoded_review"
   ]
  },
  {
   "cell_type": "code",
   "execution_count": 21,
   "metadata": {},
   "outputs": [
    {
     "data": {
      "text/plain": [
       "array([  34,   44, 7576, 1414,   15,    3, 4252,  514,   43,   16,    3,\n",
       "        633,  133,   12,    6,    3, 1301,  459,    4, 1751,  209,    3,\n",
       "       7693,  308,    6,  676,   80,   32, 2137, 1110, 3008,   31,    1,\n",
       "        929,    4,   42, 5120,  469,    9, 2665, 1751,    1,  223,   55,\n",
       "         16,   54,  828, 1318,  847,  228,    9,   40,   96,  122, 1484,\n",
       "         57,  145,   36,    1,  996,  141,   27,  676,  122,    1,  411,\n",
       "         59,   94, 2278,  303,  772,    5,    3,  837,   20,    3, 1755,\n",
       "        646,   42,  125,   71,   22,  235,  101,   16,   46,   49,  624,\n",
       "         31,  702,   84,  702,  378, 3493,    2, 8422,   67,   27,  107,\n",
       "       3348])"
      ]
     },
     "execution_count": 21,
     "metadata": {},
     "output_type": "execute_result"
    }
   ],
   "source": [
    "data[0]"
   ]
  },
  {
   "cell_type": "markdown",
   "metadata": {},
   "source": [
    "Shuffle data because data is currently ordered as **Negative** reviews first then **Positive** reviews."
   ]
  },
  {
   "cell_type": "code",
   "execution_count": 57,
   "metadata": {},
   "outputs": [],
   "source": [
    "indices = np.arange(data.shape[0]) # create indices of words from 0 to number of rows in data\n",
    "np.random.shuffle(indices) # need to shuffle because data is ordered (neg first, then pos)\n",
    "data = data[indices] # shuffled data\n",
    "labels = labels[indices] # shuffled labels\n",
    "\n",
    "x_train = data[:training_samples] # 200 rows by 100 words\n",
    "y_train = labels[:training_samples] # 200 labels\n",
    "x_val = data[training_samples:training_samples+validation_samples]\n",
    "y_val = labels[training_samples:training_samples+validation_samples]"
   ]
  },
  {
   "cell_type": "markdown",
   "metadata": {},
   "source": [
    "Download GLOVE word embeddings at https://nlp.stanford.edu/projects/glove then unzip it; parse the unzipped file and build an index that maps words (as strings) to their vector representation (as number vectors)."
   ]
  },
  {
   "cell_type": "code",
   "execution_count": 33,
   "metadata": {},
   "outputs": [
    {
     "name": "stdout",
     "output_type": "stream",
     "text": [
      "Found 400000 word vectors.\n"
     ]
    }
   ],
   "source": [
    "glove_dir = 'C:\\\\Users\\\\antra\\\\OneDrive\\\\kaggle\\\\sentiment_analysis\\\\word_embedding\\\\glove.6B'\n",
    "\n",
    "embeddings_index = {}\n",
    "f = open(os.path.join(glove_dir, 'glove.6B.100d.txt'), errors='ignore', encoding='utf8')\n",
    "for line in f:\n",
    "    values = line.split()\n",
    "    word = values[0]\n",
    "    coefs = np.asarray(values[1:], dtype='float32')\n",
    "    embeddings_index[word] = coefs\n",
    "f.close()\n",
    "\n",
    "print('Found %s word vectors.' % len(embeddings_index))"
   ]
  },
  {
   "cell_type": "markdown",
   "metadata": {},
   "source": [
    "Next, build an embedding matrix that can load into Embedding layer. It must be a matrix of shape (max_words, embedding_dim). **Note**: index 0 isn't supposed to stand for any word or token; it's simply a placeholder."
   ]
  },
  {
   "cell_type": "code",
   "execution_count": 37,
   "metadata": {},
   "outputs": [],
   "source": [
    "embedding_dim = 100\n",
    "\n",
    "embedding_matrix = np.zeros((max_words, embedding_dim))\n",
    "for word, i in word_index.items():\n",
    "    if i < max_words:\n",
    "        embedding_vector = embeddings_index.get(word)\n",
    "        if embedding_vector is not None:\n",
    "            embedding_matrix[i] = embedding_vector # words not found in embedding index will be all 0's."
   ]
  },
  {
   "cell_type": "code",
   "execution_count": 38,
   "metadata": {},
   "outputs": [
    {
     "data": {
      "text/plain": [
       "(10000, 100)"
      ]
     },
     "execution_count": 38,
     "metadata": {},
     "output_type": "execute_result"
    }
   ],
   "source": [
    "embedding_matrix.shape"
   ]
  },
  {
   "cell_type": "markdown",
   "metadata": {},
   "source": [
    "Defining the model architecture."
   ]
  },
  {
   "cell_type": "code",
   "execution_count": 39,
   "metadata": {},
   "outputs": [
    {
     "name": "stderr",
     "output_type": "stream",
     "text": [
      "INFO:plaidml:Opening device \"opencl_amd_ellesmere.0\"\n"
     ]
    },
    {
     "name": "stdout",
     "output_type": "stream",
     "text": [
      "_________________________________________________________________\n",
      "Layer (type)                 Output Shape              Param #   \n",
      "=================================================================\n",
      "embedding_1 (Embedding)      (None, 100, 100)          1000000   \n",
      "_________________________________________________________________\n",
      "flatten_1 (Flatten)          (None, 10000)             0         \n",
      "_________________________________________________________________\n",
      "dense_1 (Dense)              (None, 32)                320032    \n",
      "_________________________________________________________________\n",
      "dense_2 (Dense)              (None, 1)                 33        \n",
      "=================================================================\n",
      "Total params: 1,320,065\n",
      "Trainable params: 1,320,065\n",
      "Non-trainable params: 0\n",
      "_________________________________________________________________\n"
     ]
    }
   ],
   "source": [
    "from keras.models import Sequential\n",
    "from keras.layers import Embedding, Flatten, Dense\n",
    "\n",
    "model = Sequential()\n",
    "model.add(Embedding(max_words, embedding_dim, input_length=maxlen))\n",
    "model.add(Flatten())\n",
    "model.add(Dense(32, activation='relu'))\n",
    "model.add(Dense(1, activation='sigmoid'))\n",
    "model.summary()"
   ]
  },
  {
   "cell_type": "markdown",
   "metadata": {},
   "source": [
    "The **Embedding** layer has a single weight matrix: a 2D float matrix where each entry is the word vector associated with index i. Let's load the GloVe matrix that we prepared into the Embedding layer, the first layer in the model. We will freeze the Embedding layer (*trainable* to *False*) because pre-trained parts shouldn't be updated during training."
   ]
  },
  {
   "cell_type": "code",
   "execution_count": 40,
   "metadata": {},
   "outputs": [],
   "source": [
    "model.layers[0].set_weights([embedding_matrix])\n",
    "model.layers[0].trainable = False\n",
    "\n",
    "model.summary()"
   ]
  },
  {
   "cell_type": "markdown",
   "metadata": {},
   "source": [
    "Let's compile and train the model."
   ]
  },
  {
   "cell_type": "code",
   "execution_count": 41,
   "metadata": {},
   "outputs": [
    {
     "name": "stdout",
     "output_type": "stream",
     "text": [
      "Train on 200 samples, validate on 10000 samples\n",
      "Epoch 1/10\n",
      "200/200 [==============================] - 32s 159ms/step - loss: 1.5618 - acc: 0.4700 - val_loss: 0.6930 - val_acc: 0.5046\n",
      "Epoch 2/10\n",
      "200/200 [==============================] - 27s 133ms/step - loss: 0.6879 - acc: 0.5950 - val_loss: 0.6891 - val_acc: 0.5467\n",
      "Epoch 3/10\n",
      "200/200 [==============================] - 27s 133ms/step - loss: 0.5939 - acc: 0.7000 - val_loss: 0.9113 - val_acc: 0.5036\n",
      "Epoch 4/10\n",
      "200/200 [==============================] - 26s 132ms/step - loss: 0.5948 - acc: 0.7100 - val_loss: 0.7310 - val_acc: 0.5233\n",
      "Epoch 5/10\n",
      "200/200 [==============================] - 26s 132ms/step - loss: 0.5220 - acc: 0.7650 - val_loss: 0.6863 - val_acc: 0.5533\n",
      "Epoch 6/10\n",
      "200/200 [==============================] - 26s 131ms/step - loss: 0.2502 - acc: 0.9750 - val_loss: 1.3590 - val_acc: 0.5037\n",
      "Epoch 7/10\n",
      "200/200 [==============================] - 26s 132ms/step - loss: 0.4363 - acc: 0.7350 - val_loss: 0.7234 - val_acc: 0.5668\n",
      "Epoch 8/10\n",
      "200/200 [==============================] - 26s 131ms/step - loss: 0.1050 - acc: 0.9950 - val_loss: 0.7513 - val_acc: 0.5658\n",
      "Epoch 9/10\n",
      "200/200 [==============================] - 27s 134ms/step - loss: 0.0832 - acc: 0.9950 - val_loss: 0.7921 - val_acc: 0.5633\n",
      "Epoch 10/10\n",
      "200/200 [==============================] - 26s 132ms/step - loss: 0.0484 - acc: 1.0000 - val_loss: 0.7974 - val_acc: 0.5645\n"
     ]
    }
   ],
   "source": [
    "model.compile(optimizer='rmsprop',\n",
    "             loss='binary_crossentropy',\n",
    "             metrics=['acc'])\n",
    "history = model.fit(x_train, y_train,\n",
    "                   epochs=10,\n",
    "                   batch_size=32,\n",
    "                   validation_data=(x_val, y_val))\n",
    "model.save_weights('pre_trained_glove_model.h5')"
   ]
  },
  {
   "cell_type": "markdown",
   "metadata": {},
   "source": [
    "Now let's plot the model's performance overtime."
   ]
  },
  {
   "cell_type": "code",
   "execution_count": 46,
   "metadata": {
    "scrolled": false
   },
   "outputs": [
    {
     "data": {
      "image/png": "[encoded data removed]",
      "text/plain": [
       "<Figure size 432x288 with 1 Axes>"
      ]
     },
     "metadata": {
      "needs_background": "light"
     },
     "output_type": "display_data"
    },
    {
     "data": {
      "image/png": "[encoded data removed]",
      "text/plain": [
       "<Figure size 432x288 with 1 Axes>"
      ]
     },
     "metadata": {
      "needs_background": "light"
     },
     "output_type": "display_data"
    }
   ],
   "source": [
    "import matplotlib.pyplot as plt\n",
    "\n",
    "acc = history.history['acc']\n",
    "val_acc = history.history['val_acc']\n",
    "loss = history.history['loss']\n",
    "val_loss = history.history['val_loss']\n",
    "\n",
    "epochs = range(1, len(acc) + 1)\n",
    "\n",
    "plt.plot(epochs, acc, 'bo', label='Training acc')\n",
    "plt.plot(epochs, val_acc, 'b', label='Validation acc')\n",
    "plt.title('Training and validation accuracy')\n",
    "plt.legend()\n",
    "\n",
    "plt.figure()\n",
    "\n",
    "plt.plot(epochs, loss, 'bo', label='Training loss')\n",
    "plt.plot(epochs, val_loss, 'b', label='Validation loss')\n",
    "plt.title('Training and validation loss')\n",
    "plt.legend()\n",
    "\n",
    "plt.show()"
   ]
  },
  {
   "cell_type": "markdown",
   "metadata": {},
   "source": [
    "The model quickly starts overfitting, which is understandable since our training set is super small. Recall that we can also train the same model **without loading the pre-trained word embeddings and without freezing the embedding layer**. In that case, we will be learning a **task-specific embedding** of the input tokens; which is generally **more powerful** than pre-trained word embeddings when lots of data is available. Let's try it."
   ]
  },
  {
   "cell_type": "code",
   "execution_count": 48,
   "metadata": {},
   "outputs": [
    {
     "name": "stdout",
     "output_type": "stream",
     "text": [
      "_________________________________________________________________\n",
      "Layer (type)                 Output Shape              Param #   \n",
      "=================================================================\n",
      "embedding_2 (Embedding)      (None, 100, 100)          1000000   \n",
      "_________________________________________________________________\n",
      "flatten_2 (Flatten)          (None, 10000)             0         \n",
      "_________________________________________________________________\n",
      "dense_3 (Dense)              (None, 32)                320032    \n",
      "_________________________________________________________________\n",
      "dense_4 (Dense)              (None, 1)                 33        \n",
      "=================================================================\n",
      "Total params: 1,320,065\n",
      "Trainable params: 1,320,065\n",
      "Non-trainable params: 0\n",
      "_________________________________________________________________\n"
     ]
    }
   ],
   "source": [
    "from keras.models import Sequential\n",
    "from keras.layers import Embedding, Flatten, Dense\n",
    "\n",
    "model = Sequential()\n",
    "model.add(Embedding(max_words, embedding_dim, input_length=maxlen))\n",
    "model.add(Flatten())\n",
    "model.add(Dense(32, activation='relu'))\n",
    "model.add(Dense(1, activation='sigmoid'))\n",
    "model.summary()"
   ]
  },
  {
   "cell_type": "code",
   "execution_count": 49,
   "metadata": {},
   "outputs": [
    {
     "name": "stdout",
     "output_type": "stream",
     "text": [
      "Train on 200 samples, validate on 10000 samples\n",
      "Epoch 1/10\n",
      "200/200 [==============================] - 31s 156ms/step - loss: 0.7021 - acc: 0.5200 - val_loss: 0.6927 - val_acc: 0.5129\n",
      "Epoch 2/10\n",
      "200/200 [==============================] - 26s 132ms/step - loss: 0.4686 - acc: 0.9850 - val_loss: 0.6994 - val_acc: 0.5134\n",
      "Epoch 3/10\n",
      "200/200 [==============================] - 27s 133ms/step - loss: 0.2449 - acc: 1.0000 - val_loss: 0.7035 - val_acc: 0.5198\n",
      "Epoch 4/10\n",
      "200/200 [==============================] - 26s 131ms/step - loss: 0.1053 - acc: 1.0000 - val_loss: 0.7049 - val_acc: 0.5241\n",
      "Epoch 5/10\n",
      "200/200 [==============================] - 27s 133ms/step - loss: 0.0512 - acc: 1.0000 - val_loss: 0.7096 - val_acc: 0.5271\n",
      "Epoch 6/10\n",
      "200/200 [==============================] - 26s 132ms/step - loss: 0.0257 - acc: 1.0000 - val_loss: 0.7312 - val_acc: 0.5165\n",
      "Epoch 7/10\n",
      "200/200 [==============================] - 26s 131ms/step - loss: 0.0144 - acc: 1.0000 - val_loss: 0.7239 - val_acc: 0.5317\n",
      "Epoch 8/10\n",
      "200/200 [==============================] - 26s 131ms/step - loss: 0.0085 - acc: 1.0000 - val_loss: 0.7473 - val_acc: 0.5166\n",
      "Epoch 9/10\n",
      "200/200 [==============================] - 26s 132ms/step - loss: 0.0052 - acc: 1.0000 - val_loss: 0.7351 - val_acc: 0.5363\n",
      "Epoch 10/10\n",
      "200/200 [==============================] - 26s 131ms/step - loss: 0.0031 - acc: 1.0000 - val_loss: 0.7516 - val_acc: 0.5273\n"
     ]
    }
   ],
   "source": [
    "model.compile(optimizer='rmsprop',\n",
    "             loss='binary_crossentropy',\n",
    "             metrics=['acc'])\n",
    "history = model.fit(x_train, y_train,\n",
    "                   epochs=10,\n",
    "                   batch_size=32,\n",
    "                   validation_data=(x_val, y_val))"
   ]
  },
  {
   "cell_type": "code",
   "execution_count": 50,
   "metadata": {},
   "outputs": [
    {
     "data": {
      "image/png": "[encoded data removed]",
      "text/plain": [
       "<Figure size 432x288 with 1 Axes>"
      ]
     },
     "metadata": {
      "needs_background": "light"
     },
     "output_type": "display_data"
    },
    {
     "data": {
      "image/png": "[encoded data removed]",
      "text/plain": [
       "<Figure size 432x288 with 1 Axes>"
      ]
     },
     "metadata": {
      "needs_background": "light"
     },
     "output_type": "display_data"
    }
   ],
   "source": [
    "acc = history.history['acc']\n",
    "val_acc = history.history['val_acc']\n",
    "loss = history.history['loss']\n",
    "val_loss = history.history['val_loss']\n",
    "\n",
    "epochs = range(1, len(acc) + 1)\n",
    "\n",
    "plt.plot(epochs, acc, 'bo', label='Training acc')\n",
    "plt.plot(epochs, val_acc, 'b', label='Validation acc')\n",
    "plt.title('Training and validation accuracy')\n",
    "plt.legend()\n",
    "\n",
    "plt.figure()\n",
    "\n",
    "plt.plot(epochs, loss, 'bo', label='Training loss')\n",
    "plt.plot(epochs, val_loss, 'b', label='Validation loss')\n",
    "plt.title('Training and validation loss')\n",
    "plt.legend()\n",
    "\n",
    "plt.show()"
   ]
  },
  {
   "cell_type": "markdown",
   "metadata": {},
   "source": [
    "Compare these plots with the previous plots; we can tell that pre-trained word embeddings outperform learned embeddings. If we increase the number of training samples; this will not be the case anymore. Finally, let's **evaluate** the model on the **test data**. First, we need to **tokenize** the test data like we did with the training data."
   ]
  },
  {
   "cell_type": "code",
   "execution_count": 52,
   "metadata": {},
   "outputs": [],
   "source": [
    "test_dir = os.path.join(imdb_dir, 'test')\n",
    "\n",
    "labels = []\n",
    "texts = []\n",
    "\n",
    "for label_type in ['neg', 'pos']:\n",
    "    dir_name = os.path.join(test_dir, label_type)\n",
    "    for fname in sorted(os.listdir(dir_name)):\n",
    "        if fname[-4:] == '.txt':\n",
    "            f = open(os.path.join(dir_name, fname), errors='ignore')\n",
    "            texts.append(f.read())\n",
    "            f.close()\n",
    "            if label_type == 'neg':\n",
    "                labels.append(0)\n",
    "            else:\n",
    "                labels.append(1)"
   ]
  },
  {
   "cell_type": "code",
   "execution_count": 53,
   "metadata": {},
   "outputs": [],
   "source": [
    "sequence = tokenizer.texts_to_sequences(texts)\n",
    "x_test = pad_sequences(sequences, maxlen=maxlen)\n",
    "y_test = np.asarray(labels)"
   ]
  },
  {
   "cell_type": "markdown",
   "metadata": {},
   "source": [
    "Next, let's load and evaluate the first model."
   ]
  },
  {
   "cell_type": "code",
   "execution_count": 54,
   "metadata": {},
   "outputs": [
    {
     "name": "stdout",
     "output_type": "stream",
     "text": [
      "25000/25000 [==============================] - 69s 3ms/step\n"
     ]
    },
    {
     "data": {
      "text/plain": [
       "[0.7868069425201416, 0.57124]"
      ]
     },
     "execution_count": 54,
     "metadata": {},
     "output_type": "execute_result"
    }
   ],
   "source": [
    "model.load_weights('pre_trained_glove_model.h5')\n",
    "model.evaluate(x_test, y_test) # [loss, accuracy]"
   ]
  },
  {
   "cell_type": "code",
   "execution_count": null,
   "metadata": {},
   "outputs": [],
   "source": []
  }
 ],
 "metadata": {
  "kernelspec": {
   "display_name": "Python 3",
   "language": "python",
   "name": "python3"
  },
  "language_info": {
   "codemirror_mode": {
    "name": "ipython",
    "version": 3
   },
   "file_extension": ".py",
   "mimetype": "text/x-python",
   "name": "python",
   "nbconvert_exporter": "python",
   "pygments_lexer": "ipython3",
   "version": "3.7.4"
  }
 },
 "nbformat": 4,
 "nbformat_minor": 2
}
